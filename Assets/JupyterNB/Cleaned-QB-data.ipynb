{
 "cells": [
  {
   "cell_type": "code",
   "execution_count": 94,
   "metadata": {},
   "outputs": [],
   "source": [
    "# Import dependencies\n",
    "import pandas as pd\n",
    "import numpy as np\n",
    "import os\n",
    "from os.path import dirname"
   ]
  },
  {
   "cell_type": "code",
   "execution_count": 99,
   "metadata": {},
   "outputs": [
    {
     "data": {
      "text/plain": [
       "['Player Id',\n",
       " 'Name',\n",
       " 'Position',\n",
       " 'Year',\n",
       " 'Season',\n",
       " 'Week',\n",
       " 'Game Date',\n",
       " 'Home or Away',\n",
       " 'Opponent',\n",
       " 'Outcome',\n",
       " 'Score',\n",
       " 'Games Played',\n",
       " 'Games Started',\n",
       " 'Passes Completed',\n",
       " 'Passes Attempted',\n",
       " 'Completion Percentage',\n",
       " 'Passing Yards',\n",
       " 'Passing Yards Per Attempt',\n",
       " 'TD Passes',\n",
       " 'Ints',\n",
       " 'Sacks',\n",
       " 'Sacked Yards Lost',\n",
       " 'Passer Rating',\n",
       " 'Rushing Attempts',\n",
       " 'Rushing Yards',\n",
       " 'Yards Per Carry',\n",
       " 'Rushing TDs',\n",
       " 'Fumbles',\n",
       " 'Fumbles Lost']"
      ]
     },
     "execution_count": 99,
     "metadata": {},
     "output_type": "execute_result"
    }
   ],
   "source": [
    "# Read into file\n",
    "cwd = os.getcwd()\n",
    "d = dirname(cwd)\n",
    "f = \"Data_files\"\n",
    "file = \"Game_Logs_Quarterback.csv\"\n",
    "path = os.path.join(d, f, file)\n",
    "path\n",
    "df = pd.read_csv(path)\n",
    "# View all columns\n",
    "df.columns.tolist()"
   ]
  },
  {
   "cell_type": "code",
   "execution_count": 100,
   "metadata": {},
   "outputs": [
    {
     "data": {
      "text/plain": [
       "Name                     object\n",
       "Year                      int64\n",
       "Season                   object\n",
       "Week                      int64\n",
       "Outcome                  object\n",
       "Completion Percentage    object\n",
       "Passing Yards            object\n",
       "TD Passes                object\n",
       "dtype: object"
      ]
     },
     "execution_count": 100,
     "metadata": {},
     "output_type": "execute_result"
    }
   ],
   "source": [
    "# Put relevant data into a dataframe\n",
    "QB_data = pd.DataFrame(df[['Name','Year','Season','Week','Outcome','Completion Percentage','Passing Yards','TD Passes']])\n",
    "# Print to check types\n",
    "QB_data.dtypes"
   ]
  },
  {
   "cell_type": "code",
   "execution_count": 101,
   "metadata": {},
   "outputs": [
    {
     "data": {
      "text/plain": [
       "Name                      object\n",
       "Year                       int64\n",
       "Season                    object\n",
       "Week                       int64\n",
       "Outcome                   object\n",
       "Completion Percentage    float64\n",
       "Passing Yards              int32\n",
       "TD Passes                  int32\n",
       "dtype: object"
      ]
     },
     "execution_count": 101,
     "metadata": {},
     "output_type": "execute_result"
    }
   ],
   "source": [
    "# Replace \"--\" strings to 0 \n",
    "QB_data.replace(\"--\",0, inplace=True)\n",
    "# Convert 'Passing Yards','TD Passes' to interger\n",
    "QB_data['Passing Yards']= QB_data['Passing Yards'].astype('int')\n",
    "QB_data['TD Passes']= QB_data['TD Passes'].astype('int')\n",
    "QB_data['Completion Percentage']= QB_data['Completion Percentage'].astype('float')\n",
    "# Print to check types\n",
    "QB_data.dtypes"
   ]
  },
  {
   "cell_type": "code",
   "execution_count": 102,
   "metadata": {},
   "outputs": [
    {
     "data": {
      "text/html": [
       "<div>\n",
       "<style scoped>\n",
       "    .dataframe tbody tr th:only-of-type {\n",
       "        vertical-align: middle;\n",
       "    }\n",
       "\n",
       "    .dataframe tbody tr th {\n",
       "        vertical-align: top;\n",
       "    }\n",
       "\n",
       "    .dataframe thead th {\n",
       "        text-align: right;\n",
       "    }\n",
       "</style>\n",
       "<table border=\"1\" class=\"dataframe\">\n",
       "  <thead>\n",
       "    <tr style=\"text-align: right;\">\n",
       "      <th></th>\n",
       "      <th>Name</th>\n",
       "      <th>Year</th>\n",
       "      <th>Season</th>\n",
       "      <th>Week</th>\n",
       "      <th>Outcome</th>\n",
       "      <th>Completion Percentage</th>\n",
       "      <th>Passing Yards</th>\n",
       "      <th>TD Passes</th>\n",
       "    </tr>\n",
       "  </thead>\n",
       "  <tbody>\n",
       "    <tr>\n",
       "      <th>0</th>\n",
       "      <td>Zabransky, Jared</td>\n",
       "      <td>2007</td>\n",
       "      <td>Preseason</td>\n",
       "      <td>1</td>\n",
       "      <td>L</td>\n",
       "      <td>0.0</td>\n",
       "      <td>0</td>\n",
       "      <td>0</td>\n",
       "    </tr>\n",
       "    <tr>\n",
       "      <th>1</th>\n",
       "      <td>Zabransky, Jared</td>\n",
       "      <td>2007</td>\n",
       "      <td>Preseason</td>\n",
       "      <td>2</td>\n",
       "      <td>W</td>\n",
       "      <td>25.0</td>\n",
       "      <td>19</td>\n",
       "      <td>0</td>\n",
       "    </tr>\n",
       "    <tr>\n",
       "      <th>2</th>\n",
       "      <td>Zabransky, Jared</td>\n",
       "      <td>2007</td>\n",
       "      <td>Preseason</td>\n",
       "      <td>3</td>\n",
       "      <td>W</td>\n",
       "      <td>0.0</td>\n",
       "      <td>0</td>\n",
       "      <td>0</td>\n",
       "    </tr>\n",
       "    <tr>\n",
       "      <th>3</th>\n",
       "      <td>Zabransky, Jared</td>\n",
       "      <td>2007</td>\n",
       "      <td>Preseason</td>\n",
       "      <td>4</td>\n",
       "      <td>L</td>\n",
       "      <td>54.5</td>\n",
       "      <td>117</td>\n",
       "      <td>0</td>\n",
       "    </tr>\n",
       "    <tr>\n",
       "      <th>4</th>\n",
       "      <td>Demory, Bill</td>\n",
       "      <td>1974</td>\n",
       "      <td>Regular Season</td>\n",
       "      <td>1</td>\n",
       "      <td>L</td>\n",
       "      <td>0.0</td>\n",
       "      <td>0</td>\n",
       "      <td>0</td>\n",
       "    </tr>\n",
       "  </tbody>\n",
       "</table>\n",
       "</div>"
      ],
      "text/plain": [
       "               Name  Year          Season  Week Outcome  \\\n",
       "0  Zabransky, Jared  2007       Preseason     1       L   \n",
       "1  Zabransky, Jared  2007       Preseason     2       W   \n",
       "2  Zabransky, Jared  2007       Preseason     3       W   \n",
       "3  Zabransky, Jared  2007       Preseason     4       L   \n",
       "4      Demory, Bill  1974  Regular Season     1       L   \n",
       "\n",
       "   Completion Percentage  Passing Yards  TD Passes  \n",
       "0                    0.0              0          0  \n",
       "1                   25.0             19          0  \n",
       "2                    0.0              0          0  \n",
       "3                   54.5            117          0  \n",
       "4                    0.0              0          0  "
      ]
     },
     "execution_count": 102,
     "metadata": {},
     "output_type": "execute_result"
    }
   ],
   "source": [
    "# Set index to name column\n",
    "#QB_data.set_index('Name',inplace=True, drop=True)\n",
    "# View new dataframe\n",
    "QB_data.head()"
   ]
  },
  {
   "cell_type": "code",
   "execution_count": null,
   "metadata": {},
   "outputs": [],
   "source": []
  },
  {
   "cell_type": "code",
   "execution_count": 103,
   "metadata": {},
   "outputs": [],
   "source": [
    "def wins(row):\n",
    "    if row['Outcome'] == 'W':\n",
    "        val = 1\n",
    "    else:\n",
    "        val = 0\n",
    "    return val"
   ]
  },
  {
   "cell_type": "code",
   "execution_count": 104,
   "metadata": {},
   "outputs": [
    {
     "data": {
      "text/plain": [
       "Name                      object\n",
       "Year                       int64\n",
       "Season                    object\n",
       "Week                       int64\n",
       "Outcome                   object\n",
       "Completion Percentage    float64\n",
       "Passing Yards              int32\n",
       "TD Passes                  int32\n",
       "Wins                       int64\n",
       "dtype: object"
      ]
     },
     "execution_count": 104,
     "metadata": {},
     "output_type": "execute_result"
    }
   ],
   "source": [
    "QB_data['Wins'] = QB_data.apply(wins, axis=1)\n",
    "QB_data.dtypes"
   ]
  },
  {
   "cell_type": "code",
   "execution_count": 123,
   "metadata": {},
   "outputs": [
    {
     "data": {
      "text/html": [
       "<div>\n",
       "<style scoped>\n",
       "    .dataframe tbody tr th:only-of-type {\n",
       "        vertical-align: middle;\n",
       "    }\n",
       "\n",
       "    .dataframe tbody tr th {\n",
       "        vertical-align: top;\n",
       "    }\n",
       "\n",
       "    .dataframe thead th {\n",
       "        text-align: right;\n",
       "    }\n",
       "</style>\n",
       "<table border=\"1\" class=\"dataframe\">\n",
       "  <thead>\n",
       "    <tr style=\"text-align: right;\">\n",
       "      <th></th>\n",
       "      <th>Year</th>\n",
       "      <th>Name</th>\n",
       "      <th>Season</th>\n",
       "      <th>TD Passes</th>\n",
       "      <th>Passing Yards</th>\n",
       "      <th>Wins</th>\n",
       "    </tr>\n",
       "  </thead>\n",
       "  <tbody>\n",
       "    <tr>\n",
       "      <th>0</th>\n",
       "      <td>1970</td>\n",
       "      <td>Arrington, Rick</td>\n",
       "      <td>Regular Season</td>\n",
       "      <td>1</td>\n",
       "      <td>328</td>\n",
       "      <td>3</td>\n",
       "    </tr>\n",
       "    <tr>\n",
       "      <th>1</th>\n",
       "      <td>1970</td>\n",
       "      <td>Beathard, Pete</td>\n",
       "      <td>Regular Season</td>\n",
       "      <td>2</td>\n",
       "      <td>114</td>\n",
       "      <td>8</td>\n",
       "    </tr>\n",
       "    <tr>\n",
       "      <th>2</th>\n",
       "      <td>1970</td>\n",
       "      <td>Belden, Bob</td>\n",
       "      <td>Regular Season</td>\n",
       "      <td>0</td>\n",
       "      <td>0</td>\n",
       "      <td>2</td>\n",
       "    </tr>\n",
       "    <tr>\n",
       "      <th>3</th>\n",
       "      <td>1970</td>\n",
       "      <td>Cappleman, Bill</td>\n",
       "      <td>Regular Season</td>\n",
       "      <td>0</td>\n",
       "      <td>49</td>\n",
       "      <td>2</td>\n",
       "    </tr>\n",
       "    <tr>\n",
       "      <th>4</th>\n",
       "      <td>1970</td>\n",
       "      <td>Carter, Virgil</td>\n",
       "      <td>Postseason</td>\n",
       "      <td>0</td>\n",
       "      <td>64</td>\n",
       "      <td>0</td>\n",
       "    </tr>\n",
       "  </tbody>\n",
       "</table>\n",
       "</div>"
      ],
      "text/plain": [
       "   Year             Name          Season  TD Passes  Passing Yards  Wins\n",
       "0  1970  Arrington, Rick  Regular Season          1            328     3\n",
       "1  1970   Beathard, Pete  Regular Season          2            114     8\n",
       "2  1970      Belden, Bob  Regular Season          0              0     2\n",
       "3  1970  Cappleman, Bill  Regular Season          0             49     2\n",
       "4  1970   Carter, Virgil      Postseason          0             64     0"
      ]
     },
     "execution_count": 123,
     "metadata": {},
     "output_type": "execute_result"
    }
   ],
   "source": [
    "QB_data_groups = QB_data.groupby(['Year','Name','Season'])['TD Passes','Passing Yards','Wins'].sum()\n",
    "QB_data_groups = QB_data_groups.reset_index()\n",
    "#QB_data_groups = QB_data_groups.set_index('Year')\n",
    "QB_data_groups.head()"
   ]
  },
  {
   "cell_type": "code",
   "execution_count": 72,
   "metadata": {},
   "outputs": [],
   "source": [
    "# Save cleaned data to csv new file\n",
    "QB_data_groups.to_csv(\"C:/Users/May 2018/Desktop/SMU Bootcamp Doc/01-Homework_Files/NFL-QB-Analytics/Assets/Data_Files/Cleaned_QB_data_groups.csv\")"
   ]
  },
  {
   "cell_type": "code",
   "execution_count": 73,
   "metadata": {},
   "outputs": [],
   "source": [
    "# Save cleaned data to csv new file\n",
    "QB_data.to_csv(\"C:/Users/May 2018/Desktop/SMU Bootcamp Doc/01-Homework_Files/NFL-QB-Analytics/Assets/Data_Files/Cleaned_QB_data.csv\")"
   ]
  },
  {
   "cell_type": "code",
   "execution_count": 74,
   "metadata": {},
   "outputs": [],
   "source": [
    "QB_data_groups_T = QB_data_groups.transpose()\n",
    "QB_data_groups_T\n",
    "QB_data_groups_T.to_csv(\"C:/Users/May 2018/Desktop/SMU Bootcamp Doc/01-Homework_Files/NFL-QB-Analytics/Assets/Data_Files/Cleaned_QB_data_group_transposed.csv\")"
   ]
  },
  {
   "cell_type": "code",
   "execution_count": 75,
   "metadata": {},
   "outputs": [],
   "source": [
    "#Dependencies\n",
    "import sqlalchemy\n",
    "from sqlalchemy import create_engine, func, inspect\n",
    "from sqlalchemy.orm import Session\n",
    "from sqlalchemy.ext.automap import automap_base\n",
    "\n",
    "# PyMySQL\n",
    "import pymysql\n",
    "import pymysql.cursors\n",
    "pymysql.install_as_MySQLdb()"
   ]
  },
  {
   "cell_type": "code",
   "execution_count": 76,
   "metadata": {},
   "outputs": [],
   "source": [
    "start = \"mysql://root:\"\n",
    "end = \"@localhost:3306/qb_data\"\n",
    "password =\"lsu671234\"\n",
    "path = start + password + end\n",
    "engine = create_engine(path)\n",
    "#\"mysql://root: @localhost:3306/etl_project_db\""
   ]
  },
  {
   "cell_type": "code",
   "execution_count": 124,
   "metadata": {},
   "outputs": [
    {
     "data": {
      "text/html": [
       "<div>\n",
       "<style scoped>\n",
       "    .dataframe tbody tr th:only-of-type {\n",
       "        vertical-align: middle;\n",
       "    }\n",
       "\n",
       "    .dataframe tbody tr th {\n",
       "        vertical-align: top;\n",
       "    }\n",
       "\n",
       "    .dataframe thead th {\n",
       "        text-align: right;\n",
       "    }\n",
       "</style>\n",
       "<table border=\"1\" class=\"dataframe\">\n",
       "  <thead>\n",
       "    <tr style=\"text-align: right;\">\n",
       "      <th></th>\n",
       "      <th>Year</th>\n",
       "      <th>Name</th>\n",
       "      <th>Season</th>\n",
       "      <th>TD Passes</th>\n",
       "      <th>Passing Yards</th>\n",
       "      <th>Wins</th>\n",
       "    </tr>\n",
       "  </thead>\n",
       "  <tbody>\n",
       "    <tr>\n",
       "      <th>0</th>\n",
       "      <td>1970</td>\n",
       "      <td>Arrington, Rick</td>\n",
       "      <td>Regular Season</td>\n",
       "      <td>1</td>\n",
       "      <td>328</td>\n",
       "      <td>3</td>\n",
       "    </tr>\n",
       "    <tr>\n",
       "      <th>1</th>\n",
       "      <td>1970</td>\n",
       "      <td>Beathard, Pete</td>\n",
       "      <td>Regular Season</td>\n",
       "      <td>2</td>\n",
       "      <td>114</td>\n",
       "      <td>8</td>\n",
       "    </tr>\n",
       "    <tr>\n",
       "      <th>2</th>\n",
       "      <td>1970</td>\n",
       "      <td>Belden, Bob</td>\n",
       "      <td>Regular Season</td>\n",
       "      <td>0</td>\n",
       "      <td>0</td>\n",
       "      <td>2</td>\n",
       "    </tr>\n",
       "    <tr>\n",
       "      <th>3</th>\n",
       "      <td>1970</td>\n",
       "      <td>Cappleman, Bill</td>\n",
       "      <td>Regular Season</td>\n",
       "      <td>0</td>\n",
       "      <td>49</td>\n",
       "      <td>2</td>\n",
       "    </tr>\n",
       "    <tr>\n",
       "      <th>4</th>\n",
       "      <td>1970</td>\n",
       "      <td>Carter, Virgil</td>\n",
       "      <td>Postseason</td>\n",
       "      <td>0</td>\n",
       "      <td>64</td>\n",
       "      <td>0</td>\n",
       "    </tr>\n",
       "  </tbody>\n",
       "</table>\n",
       "</div>"
      ],
      "text/plain": [
       "   Year             Name          Season  TD Passes  Passing Yards  Wins\n",
       "0  1970  Arrington, Rick  Regular Season          1            328     3\n",
       "1  1970   Beathard, Pete  Regular Season          2            114     8\n",
       "2  1970      Belden, Bob  Regular Season          0              0     2\n",
       "3  1970  Cappleman, Bill  Regular Season          0             49     2\n",
       "4  1970   Carter, Virgil      Postseason          0             64     0"
      ]
     },
     "execution_count": 124,
     "metadata": {},
     "output_type": "execute_result"
    }
   ],
   "source": [
    "QB_data_groups.head()"
   ]
  },
  {
   "cell_type": "code",
   "execution_count": 125,
   "metadata": {},
   "outputs": [],
   "source": [
    "QB_data_groups.to_sql(name='qb_data4', con=engine, if_exists='replace', index=False)"
   ]
  },
  {
   "cell_type": "code",
   "execution_count": 127,
   "metadata": {
    "scrolled": true
   },
   "outputs": [
    {
     "data": {
      "text/html": [
       "<div>\n",
       "<style scoped>\n",
       "    .dataframe tbody tr th:only-of-type {\n",
       "        vertical-align: middle;\n",
       "    }\n",
       "\n",
       "    .dataframe tbody tr th {\n",
       "        vertical-align: top;\n",
       "    }\n",
       "\n",
       "    .dataframe thead th {\n",
       "        text-align: right;\n",
       "    }\n",
       "</style>\n",
       "<table border=\"1\" class=\"dataframe\">\n",
       "  <thead>\n",
       "    <tr style=\"text-align: right;\">\n",
       "      <th></th>\n",
       "      <th>0</th>\n",
       "      <th>1</th>\n",
       "      <th>2</th>\n",
       "      <th>3</th>\n",
       "      <th>4</th>\n",
       "      <th>5</th>\n",
       "    </tr>\n",
       "  </thead>\n",
       "  <tbody>\n",
       "    <tr>\n",
       "      <th>0</th>\n",
       "      <td>1970</td>\n",
       "      <td>Arrington, Rick</td>\n",
       "      <td>Regular Season</td>\n",
       "      <td>1</td>\n",
       "      <td>328</td>\n",
       "      <td>3</td>\n",
       "    </tr>\n",
       "    <tr>\n",
       "      <th>1</th>\n",
       "      <td>1970</td>\n",
       "      <td>Beathard, Pete</td>\n",
       "      <td>Regular Season</td>\n",
       "      <td>2</td>\n",
       "      <td>114</td>\n",
       "      <td>8</td>\n",
       "    </tr>\n",
       "    <tr>\n",
       "      <th>2</th>\n",
       "      <td>1970</td>\n",
       "      <td>Belden, Bob</td>\n",
       "      <td>Regular Season</td>\n",
       "      <td>0</td>\n",
       "      <td>0</td>\n",
       "      <td>2</td>\n",
       "    </tr>\n",
       "    <tr>\n",
       "      <th>3</th>\n",
       "      <td>1970</td>\n",
       "      <td>Cappleman, Bill</td>\n",
       "      <td>Regular Season</td>\n",
       "      <td>0</td>\n",
       "      <td>49</td>\n",
       "      <td>2</td>\n",
       "    </tr>\n",
       "    <tr>\n",
       "      <th>4</th>\n",
       "      <td>1970</td>\n",
       "      <td>Carter, Virgil</td>\n",
       "      <td>Postseason</td>\n",
       "      <td>0</td>\n",
       "      <td>64</td>\n",
       "      <td>0</td>\n",
       "    </tr>\n",
       "  </tbody>\n",
       "</table>\n",
       "</div>"
      ],
      "text/plain": [
       "      0                1               2  3    4  5\n",
       "0  1970  Arrington, Rick  Regular Season  1  328  3\n",
       "1  1970   Beathard, Pete  Regular Season  2  114  8\n",
       "2  1970      Belden, Bob  Regular Season  0    0  2\n",
       "3  1970  Cappleman, Bill  Regular Season  0   49  2\n",
       "4  1970   Carter, Virgil      Postseason  0   64  0"
      ]
     },
     "execution_count": 127,
     "metadata": {},
     "output_type": "execute_result"
    }
   ],
   "source": [
    "QBSQL = engine.execute(\"SELECT * FROM QB_data4\").fetchall()\n",
    "QBSQL = pd.DataFrame(QBSQL)\n",
    "QBSQL.head()"
   ]
  },
  {
   "cell_type": "code",
   "execution_count": null,
   "metadata": {},
   "outputs": [],
   "source": []
  }
 ],
 "metadata": {
  "kernelspec": {
   "display_name": "Python 3",
   "language": "python",
   "name": "python3"
  },
  "language_info": {
   "codemirror_mode": {
    "name": "ipython",
    "version": 3
   },
   "file_extension": ".py",
   "mimetype": "text/x-python",
   "name": "python",
   "nbconvert_exporter": "python",
   "pygments_lexer": "ipython3",
   "version": "3.6.8"
  }
 },
 "nbformat": 4,
 "nbformat_minor": 2
}

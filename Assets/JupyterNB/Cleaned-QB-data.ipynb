{
 "cells": [
  {
   "cell_type": "code",
   "execution_count": 65,
   "metadata": {},
   "outputs": [],
   "source": [
    "# Import dependencies\n",
    "import pandas as pd\n",
    "import numpy as np"
   ]
  },
  {
   "cell_type": "code",
   "execution_count": 66,
   "metadata": {},
   "outputs": [
    {
     "data": {
      "text/plain": [
       "['Player Id',\n",
       " 'Name',\n",
       " 'Position',\n",
       " 'Year',\n",
       " 'Season',\n",
       " 'Week',\n",
       " 'Game Date',\n",
       " 'Home or Away',\n",
       " 'Opponent',\n",
       " 'Outcome',\n",
       " 'Score',\n",
       " 'Games Played',\n",
       " 'Games Started',\n",
       " 'Passes Completed',\n",
       " 'Passes Attempted',\n",
       " 'Completion Percentage',\n",
       " 'Passing Yards',\n",
       " 'Passing Yards Per Attempt',\n",
       " 'TD Passes',\n",
       " 'Ints',\n",
       " 'Sacks',\n",
       " 'Sacked Yards Lost',\n",
       " 'Passer Rating',\n",
       " 'Rushing Attempts',\n",
       " 'Rushing Yards',\n",
       " 'Yards Per Carry',\n",
       " 'Rushing TDs',\n",
       " 'Fumbles',\n",
       " 'Fumbles Lost']"
      ]
     },
     "execution_count": 66,
     "metadata": {},
     "output_type": "execute_result"
    }
   ],
   "source": [
    "# Read into file\n",
    "file = \"C:/Users/May 2018/Desktop/SMU Bootcamp Doc/01-Homework_Files/NFL-QB-Analytics/Game_Logs_Quarterback.csv\"\n",
    "df = pd.read_csv(file)\n",
    "# View all columns\n",
    "df.columns.tolist()"
   ]
  },
  {
   "cell_type": "code",
   "execution_count": 67,
   "metadata": {},
   "outputs": [
    {
     "data": {
      "text/plain": [
       "Name                     object\n",
       "Year                      int64\n",
       "Season                   object\n",
       "Week                      int64\n",
       "Outcome                  object\n",
       "Completion Percentage    object\n",
       "Passing Yards            object\n",
       "TD Passes                object\n",
       "dtype: object"
      ]
     },
     "execution_count": 67,
     "metadata": {},
     "output_type": "execute_result"
    }
   ],
   "source": [
    "# Put relevant data into a dataframe\n",
    "QB_data = pd.DataFrame(df[['Name','Year','Season','Week','Outcome','Completion Percentage','Passing Yards','TD Passes']])\n",
    "# Print to check types\n",
    "QB_data.dtypes"
   ]
  },
  {
   "cell_type": "code",
   "execution_count": 68,
   "metadata": {},
   "outputs": [
    {
     "data": {
      "text/plain": [
       "Name                      object\n",
       "Year                       int64\n",
       "Season                    object\n",
       "Week                       int64\n",
       "Outcome                   object\n",
       "Completion Percentage    float64\n",
       "Passing Yards              int32\n",
       "TD Passes                  int32\n",
       "dtype: object"
      ]
     },
     "execution_count": 68,
     "metadata": {},
     "output_type": "execute_result"
    }
   ],
   "source": [
    "# Replace \"--\" strings to 0 \n",
    "QB_data.replace(\"--\",0, inplace=True)\n",
    "# Convert 'Passing Yards','TD Passes' to interger\n",
    "QB_data['Passing Yards']= QB_data['Passing Yards'].astype('int')\n",
    "QB_data['TD Passes']= QB_data['TD Passes'].astype('int')\n",
    "QB_data['Completion Percentage']= QB_data['Completion Percentage'].astype('float')\n",
    "# Print to check types\n",
    "QB_data.dtypes"
   ]
  },
  {
   "cell_type": "code",
   "execution_count": 69,
   "metadata": {},
   "outputs": [
    {
     "data": {
      "text/html": [
       "<div>\n",
       "<style scoped>\n",
       "    .dataframe tbody tr th:only-of-type {\n",
       "        vertical-align: middle;\n",
       "    }\n",
       "\n",
       "    .dataframe tbody tr th {\n",
       "        vertical-align: top;\n",
       "    }\n",
       "\n",
       "    .dataframe thead th {\n",
       "        text-align: right;\n",
       "    }\n",
       "</style>\n",
       "<table border=\"1\" class=\"dataframe\">\n",
       "  <thead>\n",
       "    <tr style=\"text-align: right;\">\n",
       "      <th></th>\n",
       "      <th>Year</th>\n",
       "      <th>Season</th>\n",
       "      <th>Week</th>\n",
       "      <th>Outcome</th>\n",
       "      <th>Completion Percentage</th>\n",
       "      <th>Passing Yards</th>\n",
       "      <th>TD Passes</th>\n",
       "    </tr>\n",
       "    <tr>\n",
       "      <th>Name</th>\n",
       "      <th></th>\n",
       "      <th></th>\n",
       "      <th></th>\n",
       "      <th></th>\n",
       "      <th></th>\n",
       "      <th></th>\n",
       "      <th></th>\n",
       "    </tr>\n",
       "  </thead>\n",
       "  <tbody>\n",
       "    <tr>\n",
       "      <th>Zabransky, Jared</th>\n",
       "      <td>2007</td>\n",
       "      <td>Preseason</td>\n",
       "      <td>1</td>\n",
       "      <td>L</td>\n",
       "      <td>0.0</td>\n",
       "      <td>0</td>\n",
       "      <td>0</td>\n",
       "    </tr>\n",
       "    <tr>\n",
       "      <th>Zabransky, Jared</th>\n",
       "      <td>2007</td>\n",
       "      <td>Preseason</td>\n",
       "      <td>2</td>\n",
       "      <td>W</td>\n",
       "      <td>25.0</td>\n",
       "      <td>19</td>\n",
       "      <td>0</td>\n",
       "    </tr>\n",
       "    <tr>\n",
       "      <th>Zabransky, Jared</th>\n",
       "      <td>2007</td>\n",
       "      <td>Preseason</td>\n",
       "      <td>3</td>\n",
       "      <td>W</td>\n",
       "      <td>0.0</td>\n",
       "      <td>0</td>\n",
       "      <td>0</td>\n",
       "    </tr>\n",
       "    <tr>\n",
       "      <th>Zabransky, Jared</th>\n",
       "      <td>2007</td>\n",
       "      <td>Preseason</td>\n",
       "      <td>4</td>\n",
       "      <td>L</td>\n",
       "      <td>54.5</td>\n",
       "      <td>117</td>\n",
       "      <td>0</td>\n",
       "    </tr>\n",
       "    <tr>\n",
       "      <th>Demory, Bill</th>\n",
       "      <td>1974</td>\n",
       "      <td>Regular Season</td>\n",
       "      <td>1</td>\n",
       "      <td>L</td>\n",
       "      <td>0.0</td>\n",
       "      <td>0</td>\n",
       "      <td>0</td>\n",
       "    </tr>\n",
       "  </tbody>\n",
       "</table>\n",
       "</div>"
      ],
      "text/plain": [
       "                  Year          Season  Week Outcome  Completion Percentage  \\\n",
       "Name                                                                          \n",
       "Zabransky, Jared  2007       Preseason     1       L                    0.0   \n",
       "Zabransky, Jared  2007       Preseason     2       W                   25.0   \n",
       "Zabransky, Jared  2007       Preseason     3       W                    0.0   \n",
       "Zabransky, Jared  2007       Preseason     4       L                   54.5   \n",
       "Demory, Bill      1974  Regular Season     1       L                    0.0   \n",
       "\n",
       "                  Passing Yards  TD Passes  \n",
       "Name                                        \n",
       "Zabransky, Jared              0          0  \n",
       "Zabransky, Jared             19          0  \n",
       "Zabransky, Jared              0          0  \n",
       "Zabransky, Jared            117          0  \n",
       "Demory, Bill                  0          0  "
      ]
     },
     "execution_count": 69,
     "metadata": {},
     "output_type": "execute_result"
    }
   ],
   "source": [
    "# Set index to name column\n",
    "QB_data.set_index('Name',inplace=True, drop=True)\n",
    "# View new dataframe\n",
    "QB_data.head()"
   ]
  },
  {
   "cell_type": "code",
   "execution_count": 70,
   "metadata": {},
   "outputs": [],
   "source": [
    "# Save cleaned data to csv new file\n",
    "QB_data.to_csv(\"C:/Users/May 2018/Desktop/SMU Bootcamp Doc/01-Homework_Files/NFL-QB-Analytics/Cleaned_QB_data.csv\")"
   ]
  },
  {
   "cell_type": "code",
   "execution_count": null,
   "metadata": {},
   "outputs": [],
   "source": []
  },
  {
   "cell_type": "code",
   "execution_count": null,
   "metadata": {},
   "outputs": [],
   "source": []
  }
 ],
 "metadata": {
  "kernelspec": {
   "display_name": "Python 3",
   "language": "python",
   "name": "python3"
  },
  "language_info": {
   "codemirror_mode": {
    "name": "ipython",
    "version": 3
   },
   "file_extension": ".py",
   "mimetype": "text/x-python",
   "name": "python",
   "nbconvert_exporter": "python",
   "pygments_lexer": "ipython3",
   "version": "3.6.8"
  }
 },
 "nbformat": 4,
 "nbformat_minor": 2
}
